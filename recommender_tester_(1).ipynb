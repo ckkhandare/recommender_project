{
  "nbformat": 4,
  "nbformat_minor": 5,
  "metadata": {
    "colab": {
      "name": "recommender_tester (1).ipynb",
      "provenance": [],
      "collapsed_sections": [],
      "include_colab_link": true
    },
    "kernelspec": {
      "display_name": "Python 3",
      "language": "python",
      "name": "python3"
    },
    "language_info": {
      "codemirror_mode": {
        "name": "ipython",
        "version": 3
      },
      "file_extension": ".py",
      "mimetype": "text/x-python",
      "name": "python",
      "nbconvert_exporter": "python",
      "pygments_lexer": "ipython3",
      "version": "3.8.8"
    }
  },
  "cells": [
    {
      "cell_type": "markdown",
      "metadata": {
        "id": "view-in-github",
        "colab_type": "text"
      },
      "source": [
        "<a href=\"https://colab.research.google.com/github/ckkhandare/recommender_project/blob/main/recommender_tester_(1).ipynb\" target=\"_parent\"><img src=\"https://colab.research.google.com/assets/colab-badge.svg\" alt=\"Open In Colab\"/></a>"
      ]
    },
    {
      "cell_type": "markdown",
      "metadata": {
        "id": "4539ab05-0ddf-490b-97be-14e186599fc6"
      },
      "source": [
        "# This notebook is a tester notebook\n",
        "    - imports the stemmed movie dataset exported through movie_recommender_v1_preprocessing notebook\n",
        "    - dataset used - train_v2_stem.csv"
      ],
      "id": "4539ab05-0ddf-490b-97be-14e186599fc6"
    },
    {
      "cell_type": "code",
      "metadata": {
        "id": "3804576e-ea2f-4ff5-ba2e-851f2502058e"
      },
      "source": [
        "import pandas as pd\n",
        "import numpy as np\n",
        "import pickle"
      ],
      "id": "3804576e-ea2f-4ff5-ba2e-851f2502058e",
      "execution_count": null,
      "outputs": []
    },
    {
      "cell_type": "code",
      "metadata": {
        "id": "19e8a3eb-9b5d-449a-b8d5-e8be13e84067"
      },
      "source": [
        "movie_data = pd.read_csv('train_v2_stem.csv')"
      ],
      "id": "19e8a3eb-9b5d-449a-b8d5-e8be13e84067",
      "execution_count": null,
      "outputs": []
    },
    {
      "cell_type": "code",
      "metadata": {
        "colab": {
          "base_uri": "https://localhost:8080/",
          "height": 419
        },
        "id": "0U3N_0M7f-M4",
        "outputId": "b555c449-776c-46d3-9de0-d0af8c2a286f"
      },
      "source": [
        "movie_data"
      ],
      "id": "0U3N_0M7f-M4",
      "execution_count": null,
      "outputs": [
        {
          "output_type": "execute_result",
          "data": {
            "text/html": [
              "<div>\n",
              "<style scoped>\n",
              "    .dataframe tbody tr th:only-of-type {\n",
              "        vertical-align: middle;\n",
              "    }\n",
              "\n",
              "    .dataframe tbody tr th {\n",
              "        vertical-align: top;\n",
              "    }\n",
              "\n",
              "    .dataframe thead th {\n",
              "        text-align: right;\n",
              "    }\n",
              "</style>\n",
              "<table border=\"1\" class=\"dataframe\">\n",
              "  <thead>\n",
              "    <tr style=\"text-align: right;\">\n",
              "      <th></th>\n",
              "      <th>id</th>\n",
              "      <th>title</th>\n",
              "      <th>tags</th>\n",
              "    </tr>\n",
              "  </thead>\n",
              "  <tbody>\n",
              "    <tr>\n",
              "      <th>0</th>\n",
              "      <td>862</td>\n",
              "      <td>Toy Story</td>\n",
              "      <td>anim comedi famili unitedstatesofamerica engli...</td>\n",
              "    </tr>\n",
              "    <tr>\n",
              "      <th>1</th>\n",
              "      <td>8844</td>\n",
              "      <td>Jumanji</td>\n",
              "      <td>adventur fantasi famili unitedstatesofamerica ...</td>\n",
              "    </tr>\n",
              "    <tr>\n",
              "      <th>2</th>\n",
              "      <td>15602</td>\n",
              "      <td>Grumpier Old Men</td>\n",
              "      <td>romanc comedi unitedstatesofamerica english wa...</td>\n",
              "    </tr>\n",
              "    <tr>\n",
              "      <th>3</th>\n",
              "      <td>31357</td>\n",
              "      <td>Waiting to Exhale</td>\n",
              "      <td>comedi drama romanc unitedstatesofamerica engl...</td>\n",
              "    </tr>\n",
              "    <tr>\n",
              "      <th>4</th>\n",
              "      <td>11862</td>\n",
              "      <td>Father of the Bride Part II</td>\n",
              "      <td>comedi unitedstatesofamerica english stevemart...</td>\n",
              "    </tr>\n",
              "    <tr>\n",
              "      <th>...</th>\n",
              "      <td>...</td>\n",
              "      <td>...</td>\n",
              "      <td>...</td>\n",
              "    </tr>\n",
              "    <tr>\n",
              "      <th>44470</th>\n",
              "      <td>439050</td>\n",
              "      <td>Subdue</td>\n",
              "      <td>drama famili iran فارسی leilahatami kouroshtah...</td>\n",
              "    </tr>\n",
              "    <tr>\n",
              "      <th>44471</th>\n",
              "      <td>111109</td>\n",
              "      <td>Century of Birthing</td>\n",
              "      <td>drama philippin angelaquino perrydizon hazelor...</td>\n",
              "    </tr>\n",
              "    <tr>\n",
              "      <th>44472</th>\n",
              "      <td>67758</td>\n",
              "      <td>Betrayal</td>\n",
              "      <td>action drama thriller unitedstatesofamerica en...</td>\n",
              "    </tr>\n",
              "    <tr>\n",
              "      <th>44473</th>\n",
              "      <td>227506</td>\n",
              "      <td>Satan Triumphant</td>\n",
              "      <td>russia iwanmosschuchin nathalielissenko pavelp...</td>\n",
              "    </tr>\n",
              "    <tr>\n",
              "      <th>44474</th>\n",
              "      <td>461257</td>\n",
              "      <td>Queerama</td>\n",
              "      <td>unitedkingdom english daisyasquith 50 year aft...</td>\n",
              "    </tr>\n",
              "  </tbody>\n",
              "</table>\n",
              "<p>44475 rows × 3 columns</p>\n",
              "</div>"
            ],
            "text/plain": [
              "           id  ...                                               tags\n",
              "0         862  ...  anim comedi famili unitedstatesofamerica engli...\n",
              "1        8844  ...  adventur fantasi famili unitedstatesofamerica ...\n",
              "2       15602  ...  romanc comedi unitedstatesofamerica english wa...\n",
              "3       31357  ...  comedi drama romanc unitedstatesofamerica engl...\n",
              "4       11862  ...  comedi unitedstatesofamerica english stevemart...\n",
              "...       ...  ...                                                ...\n",
              "44470  439050  ...  drama famili iran فارسی leilahatami kouroshtah...\n",
              "44471  111109  ...  drama philippin angelaquino perrydizon hazelor...\n",
              "44472   67758  ...  action drama thriller unitedstatesofamerica en...\n",
              "44473  227506  ...  russia iwanmosschuchin nathalielissenko pavelp...\n",
              "44474  461257  ...  unitedkingdom english daisyasquith 50 year aft...\n",
              "\n",
              "[44475 rows x 3 columns]"
            ]
          },
          "metadata": {},
          "execution_count": 3
        }
      ]
    },
    {
      "cell_type": "code",
      "metadata": {
        "colab": {
          "base_uri": "https://localhost:8080/"
        },
        "id": "7ab15f25-010e-40af-8bd4-306d2cbd8e19",
        "outputId": "fcb99c14-d4f1-4d48-cb3a-92ac53226eb0"
      },
      "source": [
        "movie_data.isna().sum()"
      ],
      "id": "7ab15f25-010e-40af-8bd4-306d2cbd8e19",
      "execution_count": null,
      "outputs": [
        {
          "output_type": "execute_result",
          "data": {
            "text/plain": [
              "id       0\n",
              "title    0\n",
              "tags     0\n",
              "dtype: int64"
            ]
          },
          "metadata": {},
          "execution_count": 4
        }
      ]
    },
    {
      "cell_type": "code",
      "metadata": {
        "colab": {
          "base_uri": "https://localhost:8080/"
        },
        "id": "d186a45c-be4a-4152-9f5e-cb2e14b4b7ba",
        "outputId": "6bfbadc1-cff0-4867-8b68-7c7f8ca13079"
      },
      "source": [
        "movie_data.shape"
      ],
      "id": "d186a45c-be4a-4152-9f5e-cb2e14b4b7ba",
      "execution_count": null,
      "outputs": [
        {
          "output_type": "execute_result",
          "data": {
            "text/plain": [
              "(44475, 3)"
            ]
          },
          "metadata": {},
          "execution_count": 5
        }
      ]
    },
    {
      "cell_type": "markdown",
      "metadata": {
        "id": "znZnlgfkfKG5"
      },
      "source": [
        "--"
      ],
      "id": "znZnlgfkfKG5"
    },
    {
      "cell_type": "markdown",
      "metadata": {
        "id": "dae41917-de9c-464a-a9ef-315991e942b6"
      },
      "source": [
        "# Writing tester function\n",
        "    - model used - CountVectorizer\n",
        "    - Logic used - cosine similarity"
      ],
      "id": "dae41917-de9c-464a-a9ef-315991e942b6"
    },
    {
      "cell_type": "code",
      "metadata": {
        "id": "cd790219-fb4a-4f27-a1a0-0c9a1d72c51c"
      },
      "source": [
        "from sklearn.feature_extraction.text import CountVectorizer\n",
        "from sklearn.metrics.pairwise import cosine_similarity"
      ],
      "id": "cd790219-fb4a-4f27-a1a0-0c9a1d72c51c",
      "execution_count": null,
      "outputs": []
    },
    {
      "cell_type": "code",
      "metadata": {
        "id": "8ac59099-3d8b-4aed-9d6b-dcca2b1c0b5c"
      },
      "source": [
        "test_case1 = 8000"
      ],
      "id": "8ac59099-3d8b-4aed-9d6b-dcca2b1c0b5c",
      "execution_count": null,
      "outputs": []
    },
    {
      "cell_type": "code",
      "metadata": {
        "id": "6d865dc3-438b-4b73-af02-19ebaad268c6"
      },
      "source": [
        "train_data = movie_data.head(test_case1)"
      ],
      "id": "6d865dc3-438b-4b73-af02-19ebaad268c6",
      "execution_count": null,
      "outputs": []
    },
    {
      "cell_type": "code",
      "metadata": {
        "colab": {
          "base_uri": "https://localhost:8080/"
        },
        "id": "xTGfsNJ2xofv",
        "outputId": "d1e93b4d-0047-43e8-c8d4-7dba6fd56d22"
      },
      "source": [
        "train_data.shape"
      ],
      "id": "xTGfsNJ2xofv",
      "execution_count": null,
      "outputs": [
        {
          "output_type": "execute_result",
          "data": {
            "text/plain": [
              "(8000, 3)"
            ]
          },
          "metadata": {},
          "execution_count": 24
        }
      ]
    },
    {
      "cell_type": "code",
      "metadata": {
        "id": "KlYp75UtkAB9"
      },
      "source": [
        "train_data.to_csv('df_8000.csv',index=False)"
      ],
      "id": "KlYp75UtkAB9",
      "execution_count": null,
      "outputs": []
    },
    {
      "cell_type": "code",
      "metadata": {
        "id": "4a99eded-ab3a-428e-b47a-40e5bb27c3c7"
      },
      "source": [
        "cv = CountVectorizer(max_features=1000,stop_words='english')"
      ],
      "id": "4a99eded-ab3a-428e-b47a-40e5bb27c3c7",
      "execution_count": null,
      "outputs": []
    },
    {
      "cell_type": "code",
      "metadata": {
        "id": "38a9dd96-8f8c-4759-bb96-b45a30bb424b"
      },
      "source": [
        "vectors=cv.fit_transform(train_data['tags'].values).toarray()"
      ],
      "id": "38a9dd96-8f8c-4759-bb96-b45a30bb424b",
      "execution_count": null,
      "outputs": []
    },
    {
      "cell_type": "code",
      "metadata": {
        "id": "37999f4f-eef8-4108-9538-5eb421d570b7"
      },
      "source": [
        "similarity = cosine_similarity(vetocrs)"
      ],
      "id": "37999f4f-eef8-4108-9538-5eb421d570b7",
      "execution_count": null,
      "outputs": []
    },
    {
      "cell_type": "code",
      "metadata": {
        "id": "e84c7a62-1b80-4612-8000-ba0944881f23"
      },
      "source": [
        "def recommend(movie):\n",
        "    index = train_data[train_data['title'] == movie].index[0]\n",
        "    distances = sorted(list(enumerate(similarity[index])),reverse=True,key = lambda x: x[1])\n",
        "    for i in distances[1:6]:\n",
        "        print(train_data.iloc[i[0]].title, i[1])"
      ],
      "id": "e84c7a62-1b80-4612-8000-ba0944881f23",
      "execution_count": null,
      "outputs": []
    },
    {
      "cell_type": "code",
      "metadata": {
        "colab": {
          "base_uri": "https://localhost:8080/"
        },
        "id": "885c85e1-6781-4a98-90a9-2e953517d6b4",
        "outputId": "afcd3258-90ca-450c-ad3d-1f5120727c6d"
      },
      "source": [
        "recommend('Father of the Bride Part II')"
      ],
      "id": "885c85e1-6781-4a98-90a9-2e953517d6b4",
      "execution_count": null,
      "outputs": [
        {
          "output_type": "stream",
          "name": "stdout",
          "text": [
            "Father of the Bride 0.5050762722761052\n",
            "About Schmidt 0.5014858873767987\n",
            "All Night Long 0.4925182813112043\n",
            "Nine Months 0.441261304060914\n",
            "Leonard Part 6 0.4301545010073033\n"
          ]
        }
      ]
    },
    {
      "cell_type": "code",
      "metadata": {
        "colab": {
          "base_uri": "https://localhost:8080/"
        },
        "id": "77d19327-cda6-4e8c-8c6a-408c586f6266",
        "outputId": "2763a53b-24dc-4c47-d9c6-600f7248b8cb"
      },
      "source": [
        "recommend('Taxi Driver')"
      ],
      "id": "77d19327-cda6-4e8c-8c6a-408c586f6266",
      "execution_count": null,
      "outputs": [
        {
          "output_type": "stream",
          "name": "stdout",
          "text": [
            "Midnight Cowboy 0.4626519455729922\n",
            "The City 0.4615663313770509\n",
            "American Psycho 0.4414147946478204\n",
            "Band of the Hand 0.440086229423352\n",
            "Serpico 0.43070552164653236\n"
          ]
        }
      ]
    },
    {
      "cell_type": "code",
      "metadata": {
        "colab": {
          "base_uri": "https://localhost:8080/"
        },
        "id": "0ba0eb19-de2a-4b91-bc87-675b8c6b5c5f",
        "outputId": "76d2bc48-ba33-4129-dcb7-c5c5556725f7"
      },
      "source": [
        "recommend('Batman')"
      ],
      "id": "0ba0eb19-de2a-4b91-bc87-675b8c6b5c5f",
      "execution_count": null,
      "outputs": [
        {
          "output_type": "stream",
          "name": "stdout",
          "text": [
            "Highlander 0.5619514869490164\n",
            "The Toxic Avenger Part III: The Last Temptation of Toxie 0.5380275868489702\n",
            "Batman Forever 0.5263157894736841\n",
            "Superman 0.5007733956671914\n",
            "Penitentiary II 0.49445138605819744\n"
          ]
        }
      ]
    },
    {
      "cell_type": "code",
      "metadata": {
        "colab": {
          "base_uri": "https://localhost:8080/"
        },
        "id": "df7e0c01-a60a-430e-b3d7-503591278739",
        "outputId": "7c9210cb-b060-4429-fd62-ac7fa163f829"
      },
      "source": [
        "recommend('Jumanji')"
      ],
      "id": "df7e0c01-a60a-430e-b3d7-503591278739",
      "execution_count": null,
      "outputs": [
        {
          "output_type": "stream",
          "name": "stdout",
          "text": [
            "Brainscan 0.3947187121042206\n",
            "Dungeons & Dragons 0.3783783783783784\n",
            "The Last of Sheila 0.3663375065235981\n",
            "Bill & Ted's Bogus Journey 0.36167777207178603\n",
            "Super Mario Bros. 0.35885350027300494\n"
          ]
        }
      ]
    },
    {
      "cell_type": "code",
      "metadata": {
        "colab": {
          "base_uri": "https://localhost:8080/"
        },
        "id": "da32b300-8b69-4e57-8ba0-4bb07c8a74cf",
        "outputId": "c459c094-af92-491b-c3a3-062b413dcae6"
      },
      "source": [
        "recommend('Toy Story')"
      ],
      "id": "da32b300-8b69-4e57-8ba0-4bb07c8a74cf",
      "execution_count": null,
      "outputs": [
        {
          "output_type": "stream",
          "name": "stdout",
          "text": [
            "The Man Who Came to Dinner 0.5469660342746189\n",
            "Walk Like a Man 0.5255614462264053\n",
            "Toy Story 2 0.5033620102305381\n",
            "Dumbo 0.48653363279984113\n",
            "A Bug's Life 0.4815434123430769\n"
          ]
        }
      ]
    },
    {
      "cell_type": "code",
      "metadata": {
        "id": "r0nLzrGbjqMI"
      },
      "source": [
        "pickle.dump(similarity,open('similarity.pkl','wb'))"
      ],
      "id": "r0nLzrGbjqMI",
      "execution_count": null,
      "outputs": []
    }
  ]
}